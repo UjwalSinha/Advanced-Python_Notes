{
 "cells": [
  {
   "cell_type": "code",
   "execution_count": 1,
   "metadata": {},
   "outputs": [],
   "source": [
    "# Assignment 1"
   ]
  },
  {
   "cell_type": "code",
   "execution_count": 3,
   "metadata": {},
   "outputs": [
    {
     "name": "stdout",
     "output_type": "stream",
     "text": [
      " double cheese pizza is delicious\n",
      " paneer makhani is hot and spicy\n",
      " tandoori chicken is hot and spicy\n",
      " I love Pizza\n"
     ]
    }
   ],
   "source": [
    "my_fav_pizza = ['double cheese', 'paneer makhani', 'tandoori chicken']\n",
    "for x in my_fav_pizza:\n",
    "    if x == 'double cheese':\n",
    "        print(f\" {x} pizza is delicious\")\n",
    "    elif x == 'panner makhani':\n",
    "        print(f\" {x} pizza is my all time fav\")\n",
    "    else:\n",
    "        print(f\" {x} is hot and spicy\")\n",
    "print(\" I love Pizza\")"
   ]
  },
  {
   "cell_type": "code",
   "execution_count": 4,
   "metadata": {},
   "outputs": [
    {
     "name": "stdout",
     "output_type": "stream",
     "text": [
      " cow milk is good for babies\n",
      " buffalow milk is good for adults\n",
      " donkey milk is good for infants\n",
      " I love Milk\n"
     ]
    }
   ],
   "source": [
    "# Assignment 2\n",
    "my_pets = ['cow', 'buffalow', 'donkey']\n",
    "for x in my_pets:\n",
    "    if x == 'cow':\n",
    "        print(f\" {x} milk is good for babies\")\n",
    "    elif x == 'buffalow':\n",
    "        print(f\" {x} milk is good for adults\")\n",
    "    else:\n",
    "        print(f\" {x} milk is good for infants\")\n",
    "print(\" I love Milk\")\n"
   ]
  },
  {
   "cell_type": "code",
   "execution_count": null,
   "metadata": {},
   "outputs": [],
   "source": [
    "# Assignment 3 & 4 - Unable to write a code for this"
   ]
  }
 ],
 "metadata": {
  "kernelspec": {
   "display_name": "Python 3",
   "language": "python",
   "name": "python3"
  },
  "language_info": {
   "codemirror_mode": {
    "name": "ipython",
    "version": 3
   },
   "file_extension": ".py",
   "mimetype": "text/x-python",
   "name": "python",
   "nbconvert_exporter": "python",
   "pygments_lexer": "ipython3",
   "version": "3.7.4"
  }
 },
 "nbformat": 4,
 "nbformat_minor": 2
}
